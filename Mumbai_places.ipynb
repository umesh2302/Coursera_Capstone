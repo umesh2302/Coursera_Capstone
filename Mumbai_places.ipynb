{
 "cells": [
  {
   "cell_type": "markdown",
   "metadata": {},
   "source": [
    "## Part 1: A description of the problem and a discussion of the background"
   ]
  },
  {
   "cell_type": "markdown",
   "metadata": {},
   "source": [
    "### Back ground and Problem set : \n",
    "##### •\tOur international fund house wants to invest into booming real estate industry (in commercial /shop) of India’s Financial Capital Mumbai . They want to purchase some commercial property and lease it out to get good lease rental and wants to reduce the roll over risk. \n",
    "##### •\t(A rollover risk is when your earlier lease is expired, and you are unable to lease it out at same /higher lease rate to new client)\n",
    "##### •\tHowever, they are not sure which part of city, they should invest in and which type of shop/commercial category they should select . \n",
    "### Solution logic : \n",
    "##### •\tTypically , an area where most of shopping / commercial outlets are located , suggests that it has more commercial activities in and around that area. \n",
    "##### •Further, if customers have given more positive feedbacks of outlets in that area , means those outlets /area are very famous and are likely to fetch good lease rental with minimum roll over risk. \n",
    "### Approach : \n",
    "##### •\tWe can demarcate Mumbai area on the basis of pin codes and then using Foursquare API can identify which area has maximum stores/venues located within 500 meters of radius. \n",
    "##### •\tFurther, we can fine tune our results based on highest rating views/stores  for  top 5 locations \n",
    "##### •\tWe can further , shortlist type of store/venue for top 5 locations based on popularity index of each type of store. \n"
   ]
  },
  {
   "cell_type": "markdown",
   "metadata": {},
   "source": [
    "### Target Audience :\n",
    " #### Any investor who wants to invest in commercial real estate property in Mumbai and/or firms  finding good location to establish their shopping unit in most buzzing part of Mumbai. \n"
   ]
  },
  {
   "cell_type": "markdown",
   "metadata": {},
   "source": [
    "## 2. Data that you will be using to solve the problem or execute your idea"
   ]
  },
  {
   "cell_type": "markdown",
   "metadata": {},
   "source": [
    "#### We will require mainly two data set . \n",
    "### 1. data set require for downloading pin code wise demarcation of Mumbai city. \n",
    "#### •\tFor this we will be using .csv file located at https://data.gov.in/resources/all-india-pincode-directory-contact-details-along-latitude-and-longitude .\n",
    "\n",
    "#### •\tthis data contains pin code for whole country , so we will clean out data to keep pin code only for Mumbai city \n",
    "\n",
    "#### •\tfurther , we will required only few columns with pin code , name of neighborhood and latitude and longitude of each neighborhood, so we will further refine the data set to reduce the number of columns .\n",
    "\n"
   ]
  },
  {
   "cell_type": "markdown",
   "metadata": {},
   "source": [
    "### 2. Foursquare API data : for category selection, feedback and popularity index , we will need Foursquare API to get required data and map them on Mumbai data set.\n",
    "Api which we will be using are as follows \n",
    "\n",
    "#### •\tvenue search : \n",
    "######    o\tRequest : GET https://api.foursquare.com/v2/venues/search\n",
    "######    o\tReturns a list of venues near the current location, optionally matching a search term.\n",
    "#### •\tExplore a place : \n",
    "######    o\tRequest : https://api.foursquare.com/v2/venues/explore?\n",
    "######    o\tReturns total places near by \n",
    "\n",
    "#### •\tfeedback search \n",
    "######   o\tonce we identify most favorite /densely located place , we will get rating of some popular venues to identify how important/ famous these outlets are and they can be a target place to buy . \n"
   ]
  },
  {
   "cell_type": "code",
   "execution_count": null,
   "metadata": {},
   "outputs": [],
   "source": []
  }
 ],
 "metadata": {
  "kernelspec": {
   "display_name": "Python",
   "language": "python",
   "name": "conda-env-python-py"
  },
  "language_info": {
   "codemirror_mode": {
    "name": "ipython",
    "version": 3
   },
   "file_extension": ".py",
   "mimetype": "text/x-python",
   "name": "python",
   "nbconvert_exporter": "python",
   "pygments_lexer": "ipython3",
   "version": "3.6.11"
  }
 },
 "nbformat": 4,
 "nbformat_minor": 4
}
